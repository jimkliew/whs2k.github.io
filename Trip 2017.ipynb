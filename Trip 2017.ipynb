{
 "cells": [
  {
   "cell_type": "code",
   "execution_count": 1,
   "metadata": {
    "collapsed": true
   },
   "outputs": [],
   "source": [
    "Neil = 190\n",
    "Jonny = 125 #\n",
    "Will = 80+180\n",
    "Hayley = 120\n",
    "Cho = 0\n",
    "Ali = 0 \n"
   ]
  },
  {
   "cell_type": "code",
   "execution_count": 2,
   "metadata": {
    "collapsed": false
   },
   "outputs": [
    {
     "name": "stdout",
     "output_type": "stream",
     "text": [
      "    Playa  Monay  Multiplier\n",
      "0    Neil    190         1.0\n",
      "1   Jonny    125         1.0\n",
      "2    Will    260         1.0\n",
      "3  Hayley    120         1.0\n",
      "4     Ali      0         0.8\n",
      "5     Cho      0         0.8\n"
     ]
    }
   ],
   "source": [
    "import numpy as np\n",
    "import pandas as pd\n",
    "raw_data = {'Playa': ['Neil', 'Jonny', 'Will', 'Hayley', 'Ali', 'Cho'],\n",
    "    'Monay': [Neil, Jonny, Will, Hayley, Ali, Cho],  \n",
    "    'Multiplier': [1, 1, 1, 1, 0.8, 0.8],  }     \n",
    "    \n",
    "df = pd.DataFrame(raw_data, columns = ['Playa','Monay','Multiplier'])\n",
    "print(df)"
   ]
  },
  {
   "cell_type": "code",
   "execution_count": 4,
   "metadata": {
    "collapsed": false
   },
   "outputs": [
    {
     "name": "stdout",
     "output_type": "stream",
     "text": [
      "115.833333333\n"
     ]
    },
    {
     "data": {
      "text/html": [
       "<div>\n",
       "<style>\n",
       "    .dataframe thead tr:only-child th {\n",
       "        text-align: right;\n",
       "    }\n",
       "\n",
       "    .dataframe thead th {\n",
       "        text-align: left;\n",
       "    }\n",
       "\n",
       "    .dataframe tbody tr th {\n",
       "        vertical-align: top;\n",
       "    }\n",
       "</style>\n",
       "<table border=\"1\" class=\"dataframe\">\n",
       "  <thead>\n",
       "    <tr style=\"text-align: right;\">\n",
       "      <th></th>\n",
       "      <th>Playa</th>\n",
       "      <th>Monay</th>\n",
       "      <th>Multiplier</th>\n",
       "      <th>weightedSpend</th>\n",
       "      <th>Owes</th>\n",
       "      <th>PercBack</th>\n",
       "      <th>Owed</th>\n",
       "    </tr>\n",
       "  </thead>\n",
       "  <tbody>\n",
       "    <tr>\n",
       "      <th>0</th>\n",
       "      <td>Neil</td>\n",
       "      <td>190</td>\n",
       "      <td>1.0</td>\n",
       "      <td>115.833333</td>\n",
       "      <td>0.000000</td>\n",
       "      <td>0.273381</td>\n",
       "      <td>74.166667</td>\n",
       "    </tr>\n",
       "    <tr>\n",
       "      <th>1</th>\n",
       "      <td>Jonny</td>\n",
       "      <td>125</td>\n",
       "      <td>1.0</td>\n",
       "      <td>115.833333</td>\n",
       "      <td>0.000000</td>\n",
       "      <td>0.179856</td>\n",
       "      <td>9.166667</td>\n",
       "    </tr>\n",
       "    <tr>\n",
       "      <th>2</th>\n",
       "      <td>Will</td>\n",
       "      <td>260</td>\n",
       "      <td>1.0</td>\n",
       "      <td>115.833333</td>\n",
       "      <td>0.000000</td>\n",
       "      <td>0.374101</td>\n",
       "      <td>144.166667</td>\n",
       "    </tr>\n",
       "    <tr>\n",
       "      <th>3</th>\n",
       "      <td>Hayley</td>\n",
       "      <td>120</td>\n",
       "      <td>1.0</td>\n",
       "      <td>115.833333</td>\n",
       "      <td>0.000000</td>\n",
       "      <td>0.172662</td>\n",
       "      <td>4.166667</td>\n",
       "    </tr>\n",
       "    <tr>\n",
       "      <th>4</th>\n",
       "      <td>Ali</td>\n",
       "      <td>0</td>\n",
       "      <td>0.8</td>\n",
       "      <td>92.666667</td>\n",
       "      <td>92.666667</td>\n",
       "      <td>0.000000</td>\n",
       "      <td>-92.666667</td>\n",
       "    </tr>\n",
       "    <tr>\n",
       "      <th>5</th>\n",
       "      <td>Cho</td>\n",
       "      <td>0</td>\n",
       "      <td>0.8</td>\n",
       "      <td>92.666667</td>\n",
       "      <td>92.666667</td>\n",
       "      <td>0.000000</td>\n",
       "      <td>-92.666667</td>\n",
       "    </tr>\n",
       "  </tbody>\n",
       "</table>\n",
       "</div>"
      ],
      "text/plain": [
       "    Playa  Monay  Multiplier  weightedSpend       Owes  PercBack        Owed\n",
       "0    Neil    190         1.0     115.833333   0.000000  0.273381   74.166667\n",
       "1   Jonny    125         1.0     115.833333   0.000000  0.179856    9.166667\n",
       "2    Will    260         1.0     115.833333   0.000000  0.374101  144.166667\n",
       "3  Hayley    120         1.0     115.833333   0.000000  0.172662    4.166667\n",
       "4     Ali      0         0.8      92.666667  92.666667  0.000000  -92.666667\n",
       "5     Cho      0         0.8      92.666667  92.666667  0.000000  -92.666667"
      ]
     },
     "execution_count": 4,
     "metadata": {},
     "output_type": "execute_result"
    }
   ],
   "source": [
    "count=df['Playa'].count()\n",
    "summation=df['Monay'].sum()\n",
    "average=df['Monay'].sum()/count\n",
    "print(average)\n",
    "df['weightedSpend']=average*(df['Multiplier'])\n",
    "df['Owes']=np.maximum(df['weightedSpend']-df['Monay'],0)\n",
    "df.head(7)\n",
    "#print(summation)\n",
    "#df['PercBack']=df['Monay'] / summation \n",
    "#df['Owed']=df['PercBack']*(df['Owes'].sum())\n",
    "df['Owed']=df['Monay']-(df['weightedSpend'])\n",
    "#df['Owed'].round()\n",
    "#df['toSpend']=\n",
    "df.head(6)"
   ]
  },
  {
   "cell_type": "code",
   "execution_count": null,
   "metadata": {
    "collapsed": true
   },
   "outputs": [],
   "source": [
    "P "
   ]
  },
  {
   "cell_type": "code",
   "execution_count": 10,
   "metadata": {
    "collapsed": false
   },
   "outputs": [
    {
     "name": "stdout",
     "output_type": "stream",
     "text": [
      "[ 1.  2.  3.  4.  5.  6.]\n"
     ]
    }
   ],
   "source": [
    "x=['Neil', 'Jonny', 'Will', 'Hayley', 'Ali', 'Cho']\n",
    "x=np.linspace(1,6,6)\n",
    "print(x)"
   ]
  },
  {
   "cell_type": "code",
   "execution_count": 12,
   "metadata": {
    "collapsed": false
   },
   "outputs": [
    {
     "data": {
      "image/png": "[encoded data removed]",
      "text/plain": [
       "<matplotlib.figure.Figure at 0x11081e240>"
      ]
     },
     "metadata": {},
     "output_type": "display_data"
    }
   ],
   "source": [
    "import matplotlib.pyplot as plt\n",
    "thfont = {'fontname':'Tahoma'}\n",
    "\n",
    "plt.bar(x, df['Monay'],) #'#daccc9', label='Who Owes')\n",
    "plt.bar(x, df['Owed'])\n",
    "\n",
    "plt.show()\n",
    "#plt.plot(dates, df_plot,'#daccc9', label='EMZ Estimates')\n",
    "#plt.xlabel('Date',**thfont)\n",
    "#plt.ylabel('Sentiment',**thfont)\n",
    "\n",
    "\n",
    "#plt.savefig('todaysMood.png')"
   ]
  },
  {
   "cell_type": "code",
   "execution_count": null,
   "metadata": {
    "collapsed": true
   },
   "outputs": [],
   "source": [
    "#import matplotlib.pyplot as plt"
   ]
  },
  {
   "cell_type": "code",
   "execution_count": null,
   "metadata": {
    "collapsed": true
   },
   "outputs": [],
   "source": []
  }
 ],
 "metadata": {
  "kernelspec": {
   "display_name": "Python 3",
   "language": "python",
   "name": "python3"
  },
  "language_info": {
   "codemirror_mode": {
    "name": "ipython",
    "version": 3
   },
   "file_extension": ".py",
   "mimetype": "text/x-python",
   "name": "python",
   "nbconvert_exporter": "python",
   "pygments_lexer": "ipython3",
   "version": "3.6.0"
  }
 },
 "nbformat": 4,
 "nbformat_minor": 2
}
